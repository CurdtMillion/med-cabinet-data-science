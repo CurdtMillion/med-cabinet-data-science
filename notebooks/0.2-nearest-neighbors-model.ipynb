{
 "cells": [
  {
   "cell_type": "markdown",
   "metadata": {},
   "source": [
    "# 1 Initial data exploration"
   ]
  },
  {
   "cell_type": "code",
   "execution_count": 1,
   "metadata": {},
   "outputs": [],
   "source": [
    "# import libraries\n",
    "import pandas as pd\n",
    "import numpy as np"
   ]
  },
  {
   "cell_type": "code",
   "execution_count": 2,
   "metadata": {},
   "outputs": [],
   "source": [
    "# import datasets from urls\n",
    "leafly_csv_url = 'https://raw.githubusercontent.com/med-cabinet-5/data-science/master/data/cannabis.csv'\n",
    "kushy_strains_csv_url = 'https://raw.githubusercontent.com/kushyapp/cannabis-dataset/master/Dataset/Strains/strains-kushy_api.2017-11-14.csv'"
   ]
  },
  {
   "cell_type": "code",
   "execution_count": 3,
   "metadata": {},
   "outputs": [],
   "source": [
    "# save to dataframe\n",
    "leafly = pd.read_csv(leafly_csv_url)\n",
    "kushy = pd.read_csv(kushy_strains_csv_url)"
   ]
  },
  {
   "cell_type": "code",
   "execution_count": 4,
   "metadata": {},
   "outputs": [
    {
     "output_type": "execute_result",
     "data": {
      "text/plain": "           Strain    Type  Rating                                     Effects  \\\n0          100-Og  hybrid     4.0  Creative,Energetic,Tingly,Euphoric,Relaxed   \n1  98-White-Widow  hybrid     4.7    Relaxed,Aroused,Creative,Happy,Energetic   \n2            1024  sativa     4.4   Uplifted,Happy,Relaxed,Energetic,Creative   \n\n                    Flavor                                        Description  \n0      Earthy,Sweet,Citrus  $100 OG is a 50/50 hybrid strain that packs a ...  \n1    Flowery,Violet,Diesel  The ‘98 Aloha White Widow is an especially pot...  \n2  Spicy/Herbal,Sage,Woody  1024 is a sativa-dominant hybrid bred in Spain...  ",
      "text/html": "<div>\n<style scoped>\n    .dataframe tbody tr th:only-of-type {\n        vertical-align: middle;\n    }\n\n    .dataframe tbody tr th {\n        vertical-align: top;\n    }\n\n    .dataframe thead th {\n        text-align: right;\n    }\n</style>\n<table border=\"1\" class=\"dataframe\">\n  <thead>\n    <tr style=\"text-align: right;\">\n      <th></th>\n      <th>Strain</th>\n      <th>Type</th>\n      <th>Rating</th>\n      <th>Effects</th>\n      <th>Flavor</th>\n      <th>Description</th>\n    </tr>\n  </thead>\n  <tbody>\n    <tr>\n      <th>0</th>\n      <td>100-Og</td>\n      <td>hybrid</td>\n      <td>4.0</td>\n      <td>Creative,Energetic,Tingly,Euphoric,Relaxed</td>\n      <td>Earthy,Sweet,Citrus</td>\n      <td>$100 OG is a 50/50 hybrid strain that packs a ...</td>\n    </tr>\n    <tr>\n      <th>1</th>\n      <td>98-White-Widow</td>\n      <td>hybrid</td>\n      <td>4.7</td>\n      <td>Relaxed,Aroused,Creative,Happy,Energetic</td>\n      <td>Flowery,Violet,Diesel</td>\n      <td>The ‘98 Aloha White Widow is an especially pot...</td>\n    </tr>\n    <tr>\n      <th>2</th>\n      <td>1024</td>\n      <td>sativa</td>\n      <td>4.4</td>\n      <td>Uplifted,Happy,Relaxed,Energetic,Creative</td>\n      <td>Spicy/Herbal,Sage,Woody</td>\n      <td>1024 is a sativa-dominant hybrid bred in Spain...</td>\n    </tr>\n  </tbody>\n</table>\n</div>"
     },
     "metadata": {},
     "execution_count": 4
    }
   ],
   "source": [
    "leafly.head(3)"
   ]
  },
  {
   "cell_type": "code",
   "execution_count": 5,
   "metadata": {},
   "outputs": [
    {
     "output_type": "execute_result",
     "data": {
      "text/plain": "   id  status  sort          name  slug  image  \\\n0   1       1     0        100 OG   NaN    NaN   \n1   2       1     0  707 Headband   NaN    NaN   \n2   3       1     0          A-10   NaN    NaN   \n\n                                         description    type  crosses  \\\n0  <p>This strain is named after it's high price ...  Hybrid      NaN   \n1                                                NaN  Hybrid  378,272   \n2                                                NaN  Indica        0   \n\n                            breeder  ... cbn  cbg cbgm cbgv  cbc  cbcv  cbv  \\\n0  Old School Breeder's Association  ...  10  0.0  0.0  0.0  0.0   0.0  0.0   \n1                   Unknown Breeder  ...   0  NaN  NaN  NaN  NaN   NaN  NaN   \n2                               NaN  ...   0  NaN  NaN  NaN  NaN   NaN  NaN   \n\n   cbe  cbt  cbl  \n0  0.0  0.0  0.0  \n1  NaN  NaN  NaN  \n2  NaN  NaN  NaN  \n\n[3 rows x 31 columns]",
      "text/html": "<div>\n<style scoped>\n    .dataframe tbody tr th:only-of-type {\n        vertical-align: middle;\n    }\n\n    .dataframe tbody tr th {\n        vertical-align: top;\n    }\n\n    .dataframe thead th {\n        text-align: right;\n    }\n</style>\n<table border=\"1\" class=\"dataframe\">\n  <thead>\n    <tr style=\"text-align: right;\">\n      <th></th>\n      <th>id</th>\n      <th>status</th>\n      <th>sort</th>\n      <th>name</th>\n      <th>slug</th>\n      <th>image</th>\n      <th>description</th>\n      <th>type</th>\n      <th>crosses</th>\n      <th>breeder</th>\n      <th>...</th>\n      <th>cbn</th>\n      <th>cbg</th>\n      <th>cbgm</th>\n      <th>cbgv</th>\n      <th>cbc</th>\n      <th>cbcv</th>\n      <th>cbv</th>\n      <th>cbe</th>\n      <th>cbt</th>\n      <th>cbl</th>\n    </tr>\n  </thead>\n  <tbody>\n    <tr>\n      <th>0</th>\n      <td>1</td>\n      <td>1</td>\n      <td>0</td>\n      <td>100 OG</td>\n      <td>NaN</td>\n      <td>NaN</td>\n      <td>&lt;p&gt;This strain is named after it's high price ...</td>\n      <td>Hybrid</td>\n      <td>NaN</td>\n      <td>Old School Breeder's Association</td>\n      <td>...</td>\n      <td>10</td>\n      <td>0.0</td>\n      <td>0.0</td>\n      <td>0.0</td>\n      <td>0.0</td>\n      <td>0.0</td>\n      <td>0.0</td>\n      <td>0.0</td>\n      <td>0.0</td>\n      <td>0.0</td>\n    </tr>\n    <tr>\n      <th>1</th>\n      <td>2</td>\n      <td>1</td>\n      <td>0</td>\n      <td>707 Headband</td>\n      <td>NaN</td>\n      <td>NaN</td>\n      <td>NaN</td>\n      <td>Hybrid</td>\n      <td>378,272</td>\n      <td>Unknown Breeder</td>\n      <td>...</td>\n      <td>0</td>\n      <td>NaN</td>\n      <td>NaN</td>\n      <td>NaN</td>\n      <td>NaN</td>\n      <td>NaN</td>\n      <td>NaN</td>\n      <td>NaN</td>\n      <td>NaN</td>\n      <td>NaN</td>\n    </tr>\n    <tr>\n      <th>2</th>\n      <td>3</td>\n      <td>1</td>\n      <td>0</td>\n      <td>A-10</td>\n      <td>NaN</td>\n      <td>NaN</td>\n      <td>NaN</td>\n      <td>Indica</td>\n      <td>0</td>\n      <td>NaN</td>\n      <td>...</td>\n      <td>0</td>\n      <td>NaN</td>\n      <td>NaN</td>\n      <td>NaN</td>\n      <td>NaN</td>\n      <td>NaN</td>\n      <td>NaN</td>\n      <td>NaN</td>\n      <td>NaN</td>\n      <td>NaN</td>\n    </tr>\n  </tbody>\n</table>\n<p>3 rows × 31 columns</p>\n</div>"
     },
     "metadata": {},
     "execution_count": 5
    }
   ],
   "source": [
    "kushy.head(3)"
   ]
  },
  {
   "cell_type": "code",
   "execution_count": 6,
   "metadata": {},
   "outputs": [
    {
     "output_type": "execute_result",
     "data": {
      "text/plain": "id                0\nstatus            0\nsort              0\nname              1\nslug           9524\nimage          9524\ndescription    9523\ntype             24\ncrosses        8960\nbreeder         545\neffects        8509\nailment        8553\nflavor         8553\nlocation       8903\nterpenes       9523\nthc               0\nthca            889\nthcv            889\ncbd               0\ncbda            889\ncbdv            889\ncbn               0\ncbg             889\ncbgm            889\ncbgv            889\ncbc             889\ncbcv            889\ncbv             889\ncbe             889\ncbt             889\ncbl             889\ndtype: int64"
     },
     "metadata": {},
     "execution_count": 6
    }
   ],
   "source": [
    "kushy.isnull().sum()"
   ]
  },
  {
   "cell_type": "markdown",
   "metadata": {},
   "source": [
    "#### **Note:** Most of the information is in chemical analysis, which we don't care about, but we do gain ~1000 ailment observations"
   ]
  },
  {
   "cell_type": "code",
   "execution_count": 7,
   "metadata": {},
   "outputs": [
    {
     "output_type": "execute_result",
     "data": {
      "text/plain": "(2351, 6)"
     },
     "metadata": {},
     "execution_count": 7
    }
   ],
   "source": [
    "# shape of dataframe\n",
    "leafly.shape"
   ]
  },
  {
   "cell_type": "code",
   "execution_count": 8,
   "metadata": {},
   "outputs": [
    {
     "output_type": "execute_result",
     "data": {
      "text/plain": "Strain          0\nType            0\nRating          0\nEffects         0\nFlavor         46\nDescription    33\ndtype: int64"
     },
     "metadata": {},
     "execution_count": 8
    }
   ],
   "source": [
    "# null values\n",
    "leafly.isnull().sum()"
   ]
  },
  {
   "cell_type": "code",
   "execution_count": 9,
   "metadata": {},
   "outputs": [],
   "source": [
    "# drop a small portion of the data to maintain our ability to provide standardized output\n",
    "leafly = leafly.dropna(subset=['Flavor', 'Description'])"
   ]
  },
  {
   "cell_type": "code",
   "execution_count": 10,
   "metadata": {},
   "outputs": [],
   "source": [
    "# The only merge-able data of interest\n",
    "kushy_clean = kushy[['name', 'ailment']]"
   ]
  },
  {
   "cell_type": "code",
   "execution_count": 11,
   "metadata": {},
   "outputs": [
    {
     "output_type": "execute_result",
     "data": {
      "text/plain": "(9524, 2)"
     },
     "metadata": {},
     "execution_count": 11
    }
   ],
   "source": [
    "# shape of clean kush data\n",
    "kushy_clean.shape"
   ]
  },
  {
   "cell_type": "code",
   "execution_count": 12,
   "metadata": {},
   "outputs": [
    {
     "output_type": "execute_result",
     "data": {
      "text/plain": "name          1\nailment    8553\ndtype: int64"
     },
     "metadata": {},
     "execution_count": 12
    }
   ],
   "source": [
    "# null values in clean dataset\n",
    "kushy_clean.isnull().sum()"
   ]
  },
  {
   "cell_type": "code",
   "execution_count": 13,
   "metadata": {},
   "outputs": [],
   "source": [
    "# drop null values\n",
    "kushy_clean = kushy_clean.dropna()"
   ]
  },
  {
   "cell_type": "code",
   "execution_count": 14,
   "metadata": {},
   "outputs": [
    {
     "output_type": "execute_result",
     "data": {
      "text/plain": "(971, 2)"
     },
     "metadata": {},
     "execution_count": 14
    }
   ],
   "source": [
    "# kushy clean shape \n",
    "kushy_clean.shape"
   ]
  },
  {
   "cell_type": "code",
   "execution_count": 15,
   "metadata": {},
   "outputs": [],
   "source": [
    "# merge data\n",
    "merged = pd.merge(leafly, kushy_clean, left_on='Strain', right_on='name', how='left' )"
   ]
  },
  {
   "cell_type": "code",
   "execution_count": 16,
   "metadata": {},
   "outputs": [
    {
     "output_type": "execute_result",
     "data": {
      "text/plain": "(2280, 8)"
     },
     "metadata": {},
     "execution_count": 16
    }
   ],
   "source": [
    "merged.shape"
   ]
  },
  {
   "cell_type": "code",
   "execution_count": 17,
   "metadata": {},
   "outputs": [
    {
     "output_type": "execute_result",
     "data": {
      "text/plain": "'A-10 has an earthy, hashy taste that provides a very heavy body stone. \\xa0Frequently used to treat insomnia and chronic pain.'"
     },
     "metadata": {},
     "execution_count": 17
    }
   ],
   "source": [
    "# print a description\n",
    "merged.loc[19]['Description']"
   ]
  },
  {
   "cell_type": "code",
   "execution_count": 18,
   "metadata": {},
   "outputs": [
    {
     "output_type": "execute_result",
     "data": {
      "text/plain": "'Stress, Insomnia, Pain, Muscle Spasms, Depression'"
     },
     "metadata": {},
     "execution_count": 18
    }
   ],
   "source": [
    "# print an ailment\n",
    "merged.loc[19]['ailment']"
   ]
  },
  {
   "cell_type": "code",
   "execution_count": 19,
   "metadata": {},
   "outputs": [],
   "source": [
    "# Dropping the rating and retaining only string information\n",
    "merged_strings = merged.drop(['Rating'], axis=1)"
   ]
  },
  {
   "cell_type": "code",
   "execution_count": 20,
   "metadata": {},
   "outputs": [],
   "source": [
    "# merge nan values with ''\n",
    "merged_strings = merged_strings.fillna('')"
   ]
  },
  {
   "cell_type": "code",
   "execution_count": 21,
   "metadata": {},
   "outputs": [
    {
     "output_type": "execute_result",
     "data": {
      "text/plain": "Strain         0\nType           0\nEffects        0\nFlavor         0\nDescription    0\nname           0\nailment        0\ndtype: int64"
     },
     "metadata": {},
     "execution_count": 21
    }
   ],
   "source": [
    "# check for null values\n",
    "merged_strings.isnull().sum()"
   ]
  },
  {
   "cell_type": "code",
   "execution_count": 22,
   "metadata": {},
   "outputs": [
    {
     "output_type": "execute_result",
     "data": {
      "text/plain": "Strain         object\nType           object\nEffects        object\nFlavor         object\nDescription    object\nname           object\nailment        object\ndtype: object"
     },
     "metadata": {},
     "execution_count": 22
    }
   ],
   "source": [
    "# check data types\n",
    "merged_strings.dtypes"
   ]
  },
  {
   "cell_type": "code",
   "execution_count": 23,
   "metadata": {},
   "outputs": [],
   "source": [
    "# Concatenating all text such that it is easy to process for our NLP model\n",
    "merged_strings['all_text'] = merged_strings.apply(lambda x: ' '.join(x), axis=1)"
   ]
  },
  {
   "cell_type": "code",
   "execution_count": 24,
   "metadata": {},
   "outputs": [
    {
     "output_type": "execute_result",
     "data": {
      "text/plain": "'100-Og hybrid Creative,Energetic,Tingly,Euphoric,Relaxed Earthy,Sweet,Citrus $100 OG is a 50/50 hybrid strain that packs a strong punch. The name supposedly refers to both its strength and high price when it first started showing up in Hollywood. As a plant, $100 OG tends to produce large dark green buds with few stems. Users report a strong body effect of an indica for pain relief with the more alert, cerebral feeling thanks to its sativa side.  '"
     },
     "metadata": {},
     "execution_count": 24
    }
   ],
   "source": [
    "# print 'all_text' example\n",
    "merged_strings['all_text'][0]"
   ]
  },
  {
   "cell_type": "markdown",
   "metadata": {},
   "source": [
    "# 2 Natural Language Processing"
   ]
  },
  {
   "cell_type": "code",
   "execution_count": 27,
   "metadata": {},
   "outputs": [],
   "source": [
    "import spacy\n",
    "from sklearn.feature_extraction.text import TfidfVectorizer"
   ]
  },
  {
   "cell_type": "code",
   "execution_count": 28,
   "metadata": {},
   "outputs": [],
   "source": [
    "nlp = spacy.load(\"en_core_web_lg\")"
   ]
  },
  {
   "cell_type": "code",
   "execution_count": 29,
   "metadata": {},
   "outputs": [],
   "source": [
    "def lemma_producer(text):\n",
    "    \"\"\"\n",
    "    Tokenizes string and returning a list of lemmas.\n",
    "    \"\"\"\n",
    "    lemmas = []\n",
    "    processed_text = nlp(text)\n",
    "    \n",
    "    for token in processed_text:\n",
    "        if ((token.is_stop == False) and (token.is_punct == False)) and (token.pos_!= 'PRON'):\n",
    "            lemmas.append(token.lemma_)\n",
    "    return ' '.join(lemmas)       "
   ]
  },
  {
   "cell_type": "code",
   "execution_count": 30,
   "metadata": {},
   "outputs": [],
   "source": [
    "merged_strings['lemmas'] = merged_strings['all_text'].apply(lemma_producer)"
   ]
  },
  {
   "cell_type": "code",
   "execution_count": 31,
   "metadata": {},
   "outputs": [
    {
     "output_type": "execute_result",
     "data": {
      "text/plain": "'100-og hybrid Creative energetic tingly euphoric Relaxed Earthy Sweet Citrus $ 100 OG 50/50 hybrid strain pack strong punch supposedly refer strength high price start show Hollywood plant $ 100 OG tend produce large dark green bud stem user report strong body effect indica pain relief alert cerebral feeling thank sativa  '"
     },
     "metadata": {},
     "execution_count": 31
    }
   ],
   "source": [
    "merged_strings['lemmas'][0]"
   ]
  },
  {
   "cell_type": "code",
   "execution_count": 32,
   "metadata": {},
   "outputs": [],
   "source": [
    "tfidf = TfidfVectorizer(stop_words=\"english\", min_df=0.025, max_df=0.98, ngram_range=(1,3))"
   ]
  },
  {
   "cell_type": "code",
   "execution_count": 34,
   "metadata": {},
   "outputs": [],
   "source": [
    "dtm = tfidf.fit_transform(merged_strings['lemmas'])"
   ]
  },
  {
   "cell_type": "code",
   "execution_count": 35,
   "metadata": {},
   "outputs": [],
   "source": [
    "dtm = pd.DataFrame(dtm.todense(), columns=tfidf.get_feature_names())"
   ]
  },
  {
   "cell_type": "code",
   "execution_count": 36,
   "metadata": {},
   "outputs": [
    {
     "output_type": "execute_result",
     "data": {
      "text/plain": "    10  10 week       1st   20        50        60   70   80  active  \\\n0  0.0      0.0  0.000000  0.0  0.400535  0.000000  0.0  0.0     0.0   \n1  0.0      0.0  0.115176  0.0  0.000000  0.000000  0.0  0.0     0.0   \n2  0.0      0.0  0.000000  0.0  0.000000  0.000000  0.0  0.0     0.0   \n3  0.0      0.0  0.000000  0.0  0.000000  0.000000  0.0  0.0     0.0   \n4  0.0      0.0  0.000000  0.0  0.000000  0.172131  0.0  0.0     0.0   \n\n   activity  ...      user  variety  way  week     white  white widow  \\\n0       0.0  ...  0.200870      0.0  0.0   0.0  0.000000     0.000000   \n1       0.0  ...  0.000000      0.0  0.0   0.0  0.414382     0.530228   \n2       0.0  ...  0.000000      0.0  0.0   0.0  0.000000     0.000000   \n3       0.0  ...  0.000000      0.0  0.0   0.0  0.000000     0.000000   \n4       0.0  ...  0.182326      0.0  0.0   0.0  0.000000     0.000000   \n\n      widow  win     woody  yield  \n0  0.000000  0.0  0.000000    0.0  \n1  0.527328  0.0  0.000000    0.0  \n2  0.000000  0.0  0.144146    0.0  \n3  0.000000  0.0  0.152048    0.0  \n4  0.000000  0.0  0.000000    0.0  \n\n[5 rows x 472 columns]",
      "text/html": "<div>\n<style scoped>\n    .dataframe tbody tr th:only-of-type {\n        vertical-align: middle;\n    }\n\n    .dataframe tbody tr th {\n        vertical-align: top;\n    }\n\n    .dataframe thead th {\n        text-align: right;\n    }\n</style>\n<table border=\"1\" class=\"dataframe\">\n  <thead>\n    <tr style=\"text-align: right;\">\n      <th></th>\n      <th>10</th>\n      <th>10 week</th>\n      <th>1st</th>\n      <th>20</th>\n      <th>50</th>\n      <th>60</th>\n      <th>70</th>\n      <th>80</th>\n      <th>active</th>\n      <th>activity</th>\n      <th>...</th>\n      <th>user</th>\n      <th>variety</th>\n      <th>way</th>\n      <th>week</th>\n      <th>white</th>\n      <th>white widow</th>\n      <th>widow</th>\n      <th>win</th>\n      <th>woody</th>\n      <th>yield</th>\n    </tr>\n  </thead>\n  <tbody>\n    <tr>\n      <th>0</th>\n      <td>0.0</td>\n      <td>0.0</td>\n      <td>0.000000</td>\n      <td>0.0</td>\n      <td>0.400535</td>\n      <td>0.000000</td>\n      <td>0.0</td>\n      <td>0.0</td>\n      <td>0.0</td>\n      <td>0.0</td>\n      <td>...</td>\n      <td>0.200870</td>\n      <td>0.0</td>\n      <td>0.0</td>\n      <td>0.0</td>\n      <td>0.000000</td>\n      <td>0.000000</td>\n      <td>0.000000</td>\n      <td>0.0</td>\n      <td>0.000000</td>\n      <td>0.0</td>\n    </tr>\n    <tr>\n      <th>1</th>\n      <td>0.0</td>\n      <td>0.0</td>\n      <td>0.115176</td>\n      <td>0.0</td>\n      <td>0.000000</td>\n      <td>0.000000</td>\n      <td>0.0</td>\n      <td>0.0</td>\n      <td>0.0</td>\n      <td>0.0</td>\n      <td>...</td>\n      <td>0.000000</td>\n      <td>0.0</td>\n      <td>0.0</td>\n      <td>0.0</td>\n      <td>0.414382</td>\n      <td>0.530228</td>\n      <td>0.527328</td>\n      <td>0.0</td>\n      <td>0.000000</td>\n      <td>0.0</td>\n    </tr>\n    <tr>\n      <th>2</th>\n      <td>0.0</td>\n      <td>0.0</td>\n      <td>0.000000</td>\n      <td>0.0</td>\n      <td>0.000000</td>\n      <td>0.000000</td>\n      <td>0.0</td>\n      <td>0.0</td>\n      <td>0.0</td>\n      <td>0.0</td>\n      <td>...</td>\n      <td>0.000000</td>\n      <td>0.0</td>\n      <td>0.0</td>\n      <td>0.0</td>\n      <td>0.000000</td>\n      <td>0.000000</td>\n      <td>0.000000</td>\n      <td>0.0</td>\n      <td>0.144146</td>\n      <td>0.0</td>\n    </tr>\n    <tr>\n      <th>3</th>\n      <td>0.0</td>\n      <td>0.0</td>\n      <td>0.000000</td>\n      <td>0.0</td>\n      <td>0.000000</td>\n      <td>0.000000</td>\n      <td>0.0</td>\n      <td>0.0</td>\n      <td>0.0</td>\n      <td>0.0</td>\n      <td>...</td>\n      <td>0.000000</td>\n      <td>0.0</td>\n      <td>0.0</td>\n      <td>0.0</td>\n      <td>0.000000</td>\n      <td>0.000000</td>\n      <td>0.000000</td>\n      <td>0.0</td>\n      <td>0.152048</td>\n      <td>0.0</td>\n    </tr>\n    <tr>\n      <th>4</th>\n      <td>0.0</td>\n      <td>0.0</td>\n      <td>0.000000</td>\n      <td>0.0</td>\n      <td>0.000000</td>\n      <td>0.172131</td>\n      <td>0.0</td>\n      <td>0.0</td>\n      <td>0.0</td>\n      <td>0.0</td>\n      <td>...</td>\n      <td>0.182326</td>\n      <td>0.0</td>\n      <td>0.0</td>\n      <td>0.0</td>\n      <td>0.000000</td>\n      <td>0.000000</td>\n      <td>0.000000</td>\n      <td>0.0</td>\n      <td>0.000000</td>\n      <td>0.0</td>\n    </tr>\n  </tbody>\n</table>\n<p>5 rows × 472 columns</p>\n</div>"
     },
     "metadata": {},
     "execution_count": 36
    }
   ],
   "source": [
    "dtm.head()"
   ]
  },
  {
   "cell_type": "markdown",
   "metadata": {},
   "source": [
    "# 3 Modeling"
   ]
  },
  {
   "cell_type": "code",
   "execution_count": 37,
   "metadata": {},
   "outputs": [],
   "source": [
    "from sklearn.neighbors import NearestNeighbors"
   ]
  },
  {
   "cell_type": "code",
   "execution_count": 38,
   "metadata": {},
   "outputs": [
    {
     "output_type": "execute_result",
     "data": {
      "text/plain": "NearestNeighbors(algorithm='kd_tree', leaf_size=30, metric='minkowski',\n                 metric_params=None, n_jobs=None, n_neighbors=3, p=2,\n                 radius=1.0)"
     },
     "metadata": {},
     "execution_count": 38
    }
   ],
   "source": [
    "model = NearestNeighbors(n_neighbors=3, algorithm='kd_tree')\n",
    "model.fit(dtm)"
   ]
  },
  {
   "cell_type": "code",
   "execution_count": 63,
   "metadata": {},
   "outputs": [],
   "source": [
    "# test_string = ['I have fibromyalgia and I want pain relief']\n",
    "test_string = ['I have trouble focusing.']"
   ]
  },
  {
   "cell_type": "code",
   "execution_count": 64,
   "metadata": {},
   "outputs": [],
   "source": [
    "test_string = tfidf.transform(test_string)"
   ]
  },
  {
   "cell_type": "code",
   "execution_count": 65,
   "metadata": {},
   "outputs": [],
   "source": [
    "test_string = test_string.todense()"
   ]
  },
  {
   "cell_type": "code",
   "execution_count": 66,
   "metadata": {},
   "outputs": [],
   "source": [
    "predictions = model.kneighbors(test_string)"
   ]
  },
  {
   "cell_type": "code",
   "execution_count": 67,
   "metadata": {},
   "outputs": [
    {
     "output_type": "execute_result",
     "data": {
      "text/plain": "(array([[1., 1., 1.]]), array([[ 699,  713, 2145]]))"
     },
     "metadata": {},
     "execution_count": 67
    }
   ],
   "source": [
    "predictions # (distance, index)"
   ]
  },
  {
   "cell_type": "code",
   "execution_count": 68,
   "metadata": {},
   "outputs": [
    {
     "output_type": "execute_result",
     "data": {
      "text/plain": "699"
     },
     "metadata": {},
     "execution_count": 68
    }
   ],
   "source": [
    "predictions[1][0][0] # best match"
   ]
  },
  {
   "cell_type": "code",
   "execution_count": 69,
   "metadata": {},
   "outputs": [],
   "source": [
    "best_match = predictions[1][0][0]"
   ]
  },
  {
   "cell_type": "code",
   "execution_count": 70,
   "metadata": {},
   "outputs": [
    {
     "output_type": "execute_result",
     "data": {
      "text/plain": "Strain                                                Dream-Star\nType                                                      hybrid\nEffects             Euphoric,Creative,Uplifted,Talkative,Relaxed\nFlavor                                        Earthy,Woody,Sweet\nDescription    A cross between Blue Dream and Stardawg, Dream...\nname                                                            \nailment                                                         \nall_text       Dream-Star hybrid Euphoric,Creative,Uplifted,T...\nlemmas         Dream Star hybrid Euphoric Creative uplifted t...\nName: 699, dtype: object"
     },
     "metadata": {},
     "execution_count": 70
    }
   ],
   "source": [
    "merged_strings.iloc[best_match]"
   ]
  },
  {
   "cell_type": "code",
   "execution_count": 71,
   "metadata": {},
   "outputs": [],
   "source": [
    "recommended_strain = merged_strings.iloc[best_match]"
   ]
  },
  {
   "cell_type": "code",
   "execution_count": 72,
   "metadata": {},
   "outputs": [
    {
     "output_type": "execute_result",
     "data": {
      "text/plain": "{'Strain': 'Dream-Star',\n 'Type': 'hybrid',\n 'Effects': 'Euphoric,Creative,Uplifted,Talkative,Relaxed',\n 'Flavor': 'Earthy,Woody,Sweet',\n 'Description': 'A cross between Blue Dream and Stardawg, Dream Star is a sativa-dominant hybrid bred by Oaksterdam Seed Co. Its aroma is sweet and fruity, with sour accents that hint at Dream Star’s Chemdawg lineage. This strain’s psychoactive onset begins in the head and evens out over time into a mellow full-body calm. Dream Star is used by patients to treat a variety of symptoms and conditions including headaches, pain, depression, multiple sclerosis, and Parkinson’s. This hybrid might come as a challenge to novice growers, but cultivators of this strain should wait nine weeks for indoor plants to flower.'}"
     },
     "metadata": {},
     "execution_count": 72
    }
   ],
   "source": [
    "recommended_strain.drop(['name', 'ailment', 'all_text', 'lemmas']).to_dict()"
   ]
  },
  {
   "cell_type": "code",
   "execution_count": 73,
   "metadata": {},
   "outputs": [],
   "source": [
    "returned_values = recommended_strain.drop(['name', 'ailment', 'all_text', 'lemmas']).to_dict()"
   ]
  },
  {
   "cell_type": "code",
   "execution_count": 74,
   "metadata": {},
   "outputs": [
    {
     "output_type": "execute_result",
     "data": {
      "text/plain": "{'Strain': 'Dream-Star',\n 'Type': 'hybrid',\n 'Effects': 'Euphoric,Creative,Uplifted,Talkative,Relaxed',\n 'Flavor': 'Earthy,Woody,Sweet',\n 'Description': 'A cross between Blue Dream and Stardawg, Dream Star is a sativa-dominant hybrid bred by Oaksterdam Seed Co. Its aroma is sweet and fruity, with sour accents that hint at Dream Star’s Chemdawg lineage. This strain’s psychoactive onset begins in the head and evens out over time into a mellow full-body calm. Dream Star is used by patients to treat a variety of symptoms and conditions including headaches, pain, depression, multiple sclerosis, and Parkinson’s. This hybrid might come as a challenge to novice growers, but cultivators of this strain should wait nine weeks for indoor plants to flower.'}"
     },
     "metadata": {},
     "execution_count": 74
    }
   ],
   "source": [
    "returned_values"
   ]
  }
 ],
 "metadata": {
  "kernelspec": {
   "display_name": "med-cab (Python3)",
   "language": "python",
   "name": "med-cab"
  },
  "language_info": {
   "codemirror_mode": {
    "name": "ipython",
    "version": 3
   },
   "file_extension": ".py",
   "mimetype": "text/x-python",
   "name": "python",
   "nbconvert_exporter": "python",
   "pygments_lexer": "ipython3",
   "version": "3.8.2-final"
  }
 },
 "nbformat": 4,
 "nbformat_minor": 4
}